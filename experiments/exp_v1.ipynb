{
 "cells": [
  {
   "cell_type": "code",
   "execution_count": 1,
   "metadata": {
    "_cell_guid": "66f595a7-1509-4c7b-a044-05f441d3ba6d",
    "_uuid": "fdc3417e1b0c2b7ffa32df5b4abf42ca5f22dafc",
    "id": "o1bAOwHVXhfp",
    "tags": []
   },
   "outputs": [],
   "source": [
    "import numpy as np\n",
    "import matplotlib.pyplot as plt\n",
    "import seaborn as sns\n",
    "import pandas as pd"
   ]
  },
  {
   "cell_type": "code",
   "execution_count": 2,
   "metadata": {
    "_cell_guid": "7de6a386-4168-49dd-8d9b-487b7b9227a6",
    "_uuid": "7cb6e012eeb9cccc5fab8a584091dde370255604",
    "colab": {
     "base_uri": "https://localhost:8080/",
     "height": 394
    },
    "id": "rMAUR04OXhfq",
    "outputId": "697a70fe-e128-4ca8-f520-5469d738b75c",
    "tags": []
   },
   "outputs": [
    {
     "data": {
      "text/html": [
       "<div>\n",
       "<style scoped>\n",
       "    .dataframe tbody tr th:only-of-type {\n",
       "        vertical-align: middle;\n",
       "    }\n",
       "\n",
       "    .dataframe tbody tr th {\n",
       "        vertical-align: top;\n",
       "    }\n",
       "\n",
       "    .dataframe thead th {\n",
       "        text-align: right;\n",
       "    }\n",
       "</style>\n",
       "<table border=\"1\" class=\"dataframe\">\n",
       "  <thead>\n",
       "    <tr style=\"text-align: right;\">\n",
       "      <th></th>\n",
       "      <th>UNIXTime</th>\n",
       "      <th>Data</th>\n",
       "      <th>Time</th>\n",
       "      <th>Radiation</th>\n",
       "      <th>Temperature</th>\n",
       "      <th>Pressure</th>\n",
       "      <th>Humidity</th>\n",
       "      <th>WindDirection(Degrees)</th>\n",
       "      <th>Speed</th>\n",
       "      <th>TimeSunRise</th>\n",
       "      <th>TimeSunSet</th>\n",
       "    </tr>\n",
       "  </thead>\n",
       "  <tbody>\n",
       "    <tr>\n",
       "      <th>7416</th>\n",
       "      <td>1472724008</td>\n",
       "      <td>9/1/2016 12:00:00 AM</td>\n",
       "      <td>00:00:08</td>\n",
       "      <td>2.58</td>\n",
       "      <td>51</td>\n",
       "      <td>30.43</td>\n",
       "      <td>103</td>\n",
       "      <td>77.27</td>\n",
       "      <td>11.25</td>\n",
       "      <td>06:07:00</td>\n",
       "      <td>18:38:00</td>\n",
       "    </tr>\n",
       "    <tr>\n",
       "      <th>7415</th>\n",
       "      <td>1472724310</td>\n",
       "      <td>9/1/2016 12:00:00 AM</td>\n",
       "      <td>00:05:10</td>\n",
       "      <td>2.83</td>\n",
       "      <td>51</td>\n",
       "      <td>30.43</td>\n",
       "      <td>103</td>\n",
       "      <td>153.44</td>\n",
       "      <td>9.00</td>\n",
       "      <td>06:07:00</td>\n",
       "      <td>18:38:00</td>\n",
       "    </tr>\n",
       "    <tr>\n",
       "      <th>7414</th>\n",
       "      <td>1472725206</td>\n",
       "      <td>9/1/2016 12:00:00 AM</td>\n",
       "      <td>00:20:06</td>\n",
       "      <td>2.16</td>\n",
       "      <td>51</td>\n",
       "      <td>30.43</td>\n",
       "      <td>103</td>\n",
       "      <td>142.04</td>\n",
       "      <td>7.87</td>\n",
       "      <td>06:07:00</td>\n",
       "      <td>18:38:00</td>\n",
       "    </tr>\n",
       "    <tr>\n",
       "      <th>7413</th>\n",
       "      <td>1472725505</td>\n",
       "      <td>9/1/2016 12:00:00 AM</td>\n",
       "      <td>00:25:05</td>\n",
       "      <td>2.21</td>\n",
       "      <td>51</td>\n",
       "      <td>30.43</td>\n",
       "      <td>103</td>\n",
       "      <td>144.12</td>\n",
       "      <td>18.00</td>\n",
       "      <td>06:07:00</td>\n",
       "      <td>18:38:00</td>\n",
       "    </tr>\n",
       "    <tr>\n",
       "      <th>7412</th>\n",
       "      <td>1472725809</td>\n",
       "      <td>9/1/2016 12:00:00 AM</td>\n",
       "      <td>00:30:09</td>\n",
       "      <td>2.25</td>\n",
       "      <td>51</td>\n",
       "      <td>30.43</td>\n",
       "      <td>103</td>\n",
       "      <td>67.42</td>\n",
       "      <td>11.25</td>\n",
       "      <td>06:07:00</td>\n",
       "      <td>18:38:00</td>\n",
       "    </tr>\n",
       "  </tbody>\n",
       "</table>\n",
       "</div>"
      ],
      "text/plain": [
       "        UNIXTime                  Data      Time  Radiation  Temperature  \\\n",
       "7416  1472724008  9/1/2016 12:00:00 AM  00:00:08       2.58           51   \n",
       "7415  1472724310  9/1/2016 12:00:00 AM  00:05:10       2.83           51   \n",
       "7414  1472725206  9/1/2016 12:00:00 AM  00:20:06       2.16           51   \n",
       "7413  1472725505  9/1/2016 12:00:00 AM  00:25:05       2.21           51   \n",
       "7412  1472725809  9/1/2016 12:00:00 AM  00:30:09       2.25           51   \n",
       "\n",
       "      Pressure  Humidity  WindDirection(Degrees)  Speed TimeSunRise TimeSunSet  \n",
       "7416     30.43       103                   77.27  11.25    06:07:00   18:38:00  \n",
       "7415     30.43       103                  153.44   9.00    06:07:00   18:38:00  \n",
       "7414     30.43       103                  142.04   7.87    06:07:00   18:38:00  \n",
       "7413     30.43       103                  144.12  18.00    06:07:00   18:38:00  \n",
       "7412     30.43       103                   67.42  11.25    06:07:00   18:38:00  "
      ]
     },
     "execution_count": 2,
     "metadata": {},
     "output_type": "execute_result"
    }
   ],
   "source": [
    "dataset = pd.read_csv('SolarPrediction.csv')\n",
    "dataset = dataset.sort_values(['UNIXTime'], ascending = [True])\n",
    "dataset.head()"
   ]
  },
  {
   "cell_type": "markdown",
   "metadata": {
    "_cell_guid": "0eca7994-586e-4ce4-8842-c0f225a81fd6",
    "_uuid": "40a0f4dd12316fdf2209d6af68723a2cbe8f2a93",
    "id": "IZ3g03uDXhfr"
   },
   "source": [
    "## Конструирование признаков"
   ]
  },
  {
   "cell_type": "code",
   "execution_count": 3,
   "metadata": {
    "_cell_guid": "0687714e-cd94-4a50-9d29-43a33a857be8",
    "_uuid": "6fde8e9d5800ad68dc04d61fd2562eeb6b7d2c9c",
    "colab": {
     "base_uri": "https://localhost:8080/",
     "height": 510
    },
    "id": "G67YqtmBXhfs",
    "outputId": "a997f415-90b9-4a7d-a5fd-00214950c41c",
    "tags": []
   },
   "outputs": [
    {
     "data": {
      "text/html": [
       "<div>\n",
       "<style scoped>\n",
       "    .dataframe tbody tr th:only-of-type {\n",
       "        vertical-align: middle;\n",
       "    }\n",
       "\n",
       "    .dataframe tbody tr th {\n",
       "        vertical-align: top;\n",
       "    }\n",
       "\n",
       "    .dataframe thead th {\n",
       "        text-align: right;\n",
       "    }\n",
       "</style>\n",
       "<table border=\"1\" class=\"dataframe\">\n",
       "  <thead>\n",
       "    <tr style=\"text-align: right;\">\n",
       "      <th></th>\n",
       "      <th>UNIXTime</th>\n",
       "      <th>Radiation</th>\n",
       "      <th>Temperature</th>\n",
       "      <th>Pressure</th>\n",
       "      <th>Humidity</th>\n",
       "      <th>WindDirection(Degrees)</th>\n",
       "      <th>Speed</th>\n",
       "      <th>date_for_plot</th>\n",
       "      <th>MonthOfYear</th>\n",
       "      <th>DayOfYear</th>\n",
       "      <th>WeekOfYear</th>\n",
       "      <th>TimeOfDay(h)</th>\n",
       "      <th>TimeOfDay(m)</th>\n",
       "      <th>TimeOfDay(s)</th>\n",
       "      <th>DayLength(s)</th>\n",
       "    </tr>\n",
       "    <tr>\n",
       "      <th>UNIXTime</th>\n",
       "      <th></th>\n",
       "      <th></th>\n",
       "      <th></th>\n",
       "      <th></th>\n",
       "      <th></th>\n",
       "      <th></th>\n",
       "      <th></th>\n",
       "      <th></th>\n",
       "      <th></th>\n",
       "      <th></th>\n",
       "      <th></th>\n",
       "      <th></th>\n",
       "      <th></th>\n",
       "      <th></th>\n",
       "      <th></th>\n",
       "    </tr>\n",
       "  </thead>\n",
       "  <tbody>\n",
       "    <tr>\n",
       "      <th>2016-09-01 00:00:08-10:00</th>\n",
       "      <td>1472724008</td>\n",
       "      <td>2.58</td>\n",
       "      <td>51</td>\n",
       "      <td>30.43</td>\n",
       "      <td>103</td>\n",
       "      <td>77.27</td>\n",
       "      <td>11.25</td>\n",
       "      <td>2016-09-01 10:00:08</td>\n",
       "      <td>9</td>\n",
       "      <td>245</td>\n",
       "      <td>35</td>\n",
       "      <td>0</td>\n",
       "      <td>0</td>\n",
       "      <td>8</td>\n",
       "      <td>45060</td>\n",
       "    </tr>\n",
       "    <tr>\n",
       "      <th>2016-09-01 00:05:10-10:00</th>\n",
       "      <td>1472724310</td>\n",
       "      <td>2.83</td>\n",
       "      <td>51</td>\n",
       "      <td>30.43</td>\n",
       "      <td>103</td>\n",
       "      <td>153.44</td>\n",
       "      <td>9.00</td>\n",
       "      <td>2016-09-01 10:05:10</td>\n",
       "      <td>9</td>\n",
       "      <td>245</td>\n",
       "      <td>35</td>\n",
       "      <td>0</td>\n",
       "      <td>5</td>\n",
       "      <td>310</td>\n",
       "      <td>45060</td>\n",
       "    </tr>\n",
       "    <tr>\n",
       "      <th>2016-09-01 00:20:06-10:00</th>\n",
       "      <td>1472725206</td>\n",
       "      <td>2.16</td>\n",
       "      <td>51</td>\n",
       "      <td>30.43</td>\n",
       "      <td>103</td>\n",
       "      <td>142.04</td>\n",
       "      <td>7.87</td>\n",
       "      <td>2016-09-01 10:20:06</td>\n",
       "      <td>9</td>\n",
       "      <td>245</td>\n",
       "      <td>35</td>\n",
       "      <td>0</td>\n",
       "      <td>20</td>\n",
       "      <td>1206</td>\n",
       "      <td>45060</td>\n",
       "    </tr>\n",
       "    <tr>\n",
       "      <th>2016-09-01 00:25:05-10:00</th>\n",
       "      <td>1472725505</td>\n",
       "      <td>2.21</td>\n",
       "      <td>51</td>\n",
       "      <td>30.43</td>\n",
       "      <td>103</td>\n",
       "      <td>144.12</td>\n",
       "      <td>18.00</td>\n",
       "      <td>2016-09-01 10:25:05</td>\n",
       "      <td>9</td>\n",
       "      <td>245</td>\n",
       "      <td>35</td>\n",
       "      <td>0</td>\n",
       "      <td>25</td>\n",
       "      <td>1505</td>\n",
       "      <td>45060</td>\n",
       "    </tr>\n",
       "    <tr>\n",
       "      <th>2016-09-01 00:30:09-10:00</th>\n",
       "      <td>1472725809</td>\n",
       "      <td>2.25</td>\n",
       "      <td>51</td>\n",
       "      <td>30.43</td>\n",
       "      <td>103</td>\n",
       "      <td>67.42</td>\n",
       "      <td>11.25</td>\n",
       "      <td>2016-09-01 10:30:09</td>\n",
       "      <td>9</td>\n",
       "      <td>245</td>\n",
       "      <td>35</td>\n",
       "      <td>0</td>\n",
       "      <td>30</td>\n",
       "      <td>1809</td>\n",
       "      <td>45060</td>\n",
       "    </tr>\n",
       "  </tbody>\n",
       "</table>\n",
       "</div>"
      ],
      "text/plain": [
       "                             UNIXTime  Radiation  Temperature  Pressure  \\\n",
       "UNIXTime                                                                  \n",
       "2016-09-01 00:00:08-10:00  1472724008       2.58           51     30.43   \n",
       "2016-09-01 00:05:10-10:00  1472724310       2.83           51     30.43   \n",
       "2016-09-01 00:20:06-10:00  1472725206       2.16           51     30.43   \n",
       "2016-09-01 00:25:05-10:00  1472725505       2.21           51     30.43   \n",
       "2016-09-01 00:30:09-10:00  1472725809       2.25           51     30.43   \n",
       "\n",
       "                           Humidity  WindDirection(Degrees)  Speed  \\\n",
       "UNIXTime                                                             \n",
       "2016-09-01 00:00:08-10:00       103                   77.27  11.25   \n",
       "2016-09-01 00:05:10-10:00       103                  153.44   9.00   \n",
       "2016-09-01 00:20:06-10:00       103                  142.04   7.87   \n",
       "2016-09-01 00:25:05-10:00       103                  144.12  18.00   \n",
       "2016-09-01 00:30:09-10:00       103                   67.42  11.25   \n",
       "\n",
       "                                date_for_plot  MonthOfYear  DayOfYear  \\\n",
       "UNIXTime                                                                \n",
       "2016-09-01 00:00:08-10:00 2016-09-01 10:00:08            9        245   \n",
       "2016-09-01 00:05:10-10:00 2016-09-01 10:05:10            9        245   \n",
       "2016-09-01 00:20:06-10:00 2016-09-01 10:20:06            9        245   \n",
       "2016-09-01 00:25:05-10:00 2016-09-01 10:25:05            9        245   \n",
       "2016-09-01 00:30:09-10:00 2016-09-01 10:30:09            9        245   \n",
       "\n",
       "                           WeekOfYear  TimeOfDay(h)  TimeOfDay(m)  \\\n",
       "UNIXTime                                                            \n",
       "2016-09-01 00:00:08-10:00          35             0             0   \n",
       "2016-09-01 00:05:10-10:00          35             0             5   \n",
       "2016-09-01 00:20:06-10:00          35             0            20   \n",
       "2016-09-01 00:25:05-10:00          35             0            25   \n",
       "2016-09-01 00:30:09-10:00          35             0            30   \n",
       "\n",
       "                           TimeOfDay(s)  DayLength(s)  \n",
       "UNIXTime                                               \n",
       "2016-09-01 00:00:08-10:00             8         45060  \n",
       "2016-09-01 00:05:10-10:00           310         45060  \n",
       "2016-09-01 00:20:06-10:00          1206         45060  \n",
       "2016-09-01 00:25:05-10:00          1505         45060  \n",
       "2016-09-01 00:30:09-10:00          1809         45060  "
      ]
     },
     "execution_count": 3,
     "metadata": {},
     "output_type": "execute_result"
    }
   ],
   "source": [
    "from datetime import datetime\n",
    "from pytz import timezone\n",
    "import pytz\n",
    "hawaii= timezone('Pacific/Honolulu')\n",
    "dataset.index =  pd.to_datetime(dataset['UNIXTime'], unit='s')\n",
    "dataset['date_for_plot'] = pd.to_datetime(dataset['UNIXTime'], unit='s')\n",
    "dataset.index = dataset.index.tz_localize(pytz.utc).tz_convert(hawaii)\n",
    "dataset['MonthOfYear'] = dataset.index.strftime('%m').astype(int)\n",
    "dataset['DayOfYear'] = dataset.index.strftime('%j').astype(int)\n",
    "dataset['WeekOfYear'] = dataset.index.strftime('%U').astype(int)\n",
    "dataset['TimeOfDay(h)'] = dataset.index.hour\n",
    "dataset['TimeOfDay(m)'] = dataset.index.hour*60 + dataset.index.minute\n",
    "dataset['TimeOfDay(s)'] = dataset.index.hour*60*60 + dataset.index.minute*60 + dataset.index.second\n",
    "dataset['TimeSunRise'] = pd.to_datetime(dataset['TimeSunRise'], format='%H:%M:%S')\n",
    "dataset['TimeSunSet'] = pd.to_datetime(dataset['TimeSunSet'], format='%H:%M:%S')\n",
    "dataset['DayLength(s)'] = dataset['TimeSunSet'].dt.hour*60*60 \\\n",
    "                           + dataset['TimeSunSet'].dt.minute*60 \\\n",
    "                           + dataset['TimeSunSet'].dt.second \\\n",
    "                           - dataset['TimeSunRise'].dt.hour*60*60 \\\n",
    "                           - dataset['TimeSunRise'].dt.minute*60 \\\n",
    "                           - dataset['TimeSunRise'].dt.second\n",
    "dataset.drop(['Data','Time','TimeSunRise','TimeSunSet'], inplace=True, axis=1)\n",
    "dataset.head()"
   ]
  },
  {
   "cell_type": "markdown",
   "metadata": {
    "_cell_guid": "0af53d53-27bc-4ff0-a9a2-e45d94cc7956",
    "_uuid": "0080cb5c64d7729dcc620c9f9fddcd3187952e6c",
    "id": "Z3VHBEmBXhft"
   },
   "source": [
    "## Визуализация данных"
   ]
  },
  {
   "cell_type": "code",
   "execution_count": 7,
   "metadata": {
    "_cell_guid": "70a29ddd-b792-43d6-b2d6-ac7dfcacbcac",
    "_uuid": "89abee807e1b0f618dc0625fb8401d2ba0345418",
    "colab": {
     "base_uri": "https://localhost:8080/",
     "height": 730
    },
    "id": "FadTV5y3Xhft",
    "outputId": "5950d144-ed57-4824-8560-972274051bea",
    "tags": []
   },
   "outputs": [
    {
     "data": {
      "image/png": "[encoded data removed]",
      "text/plain": [
       "<Figure size 1008x864 with 8 Axes>"
      ]
     },
     "metadata": {
      "needs_background": "light"
     },
     "output_type": "display_data"
    }
   ],
   "source": [
    "grouped_m=dataset.groupby('MonthOfYear').mean().reset_index()\n",
    "grouped_w=dataset.groupby('WeekOfYear').mean().reset_index()\n",
    "grouped_d=dataset.groupby('DayOfYear').mean().reset_index()\n",
    "grouped_h=dataset.groupby('TimeOfDay(h)').mean().reset_index()\n",
    "\n",
    "f, ((ax1, ax2), (ax3, ax4), (ax5, ax6), (ax7, ax8)) = \\\n",
    "    plt.subplots(4, 2, sharex='col', sharey='row', figsize=(14,12))\n",
    "\n",
    "ax3.set_ylim(45,60)\n",
    "ax5.set_ylim(30.36,30.46)\n",
    "ax7.set_ylim(60,85)\n",
    "\n",
    "ax1.set_title('Средняя радиация по часам')\n",
    "pal = sns.color_palette(\"YlOrRd_r\", len(grouped_h))\n",
    "rank = grouped_h['Radiation'].argsort().argsort() \n",
    "g = sns.barplot(x=\"TimeOfDay(h)\", y='Radiation', data=grouped_h, \n",
    "                palette=np.array(pal[::-1])[rank], ax=ax1)\n",
    "ax1.set_xlabel('')\n",
    "\n",
    "ax2.set_title('Средняя радиация по месяцам')\n",
    "pal = sns.color_palette(\"YlOrRd_r\", len(grouped_m))\n",
    "rank = grouped_m['Radiation'].argsort().argsort() \n",
    "g = sns.barplot(x=\"MonthOfYear\", y='Radiation', data=grouped_m, \n",
    "                palette=np.array(pal[::-1])[rank], ax=ax2)\n",
    "ax2.set_xlabel('')\n",
    "\n",
    "ax3.set_title('Средняя температура по часам')\n",
    "pal = sns.color_palette(\"YlOrRd_r\", len(grouped_h))\n",
    "rank = grouped_h['Temperature'].argsort().argsort() \n",
    "g = sns.barplot(x=\"TimeOfDay(h)\", y='Temperature', data=grouped_h, \n",
    "                palette=np.array(pal[::-1])[rank], ax=ax3)\n",
    "ax3.set_xlabel('')\n",
    "\n",
    "ax4.set_title('Средняя температура по месяцам')\n",
    "pal = sns.color_palette(\"YlOrRd_r\", len(grouped_m))\n",
    "rank = grouped_m['Temperature'].argsort().argsort() \n",
    "g = sns.barplot(x=\"MonthOfYear\", y='Temperature', data=grouped_m, \n",
    "                palette=np.array(pal[::-1])[rank], ax=ax4)\n",
    "ax4.set_xlabel('')\n",
    "\n",
    "ax5.set_title('Среднее атмосферное давление по часам')\n",
    "pal = sns.color_palette(\"YlOrRd_r\", len(grouped_h))\n",
    "rank = grouped_h['Pressure'].argsort().argsort() \n",
    "g = sns.barplot(x=\"TimeOfDay(h)\", y='Pressure', data=grouped_h, \n",
    "                palette=np.array(pal[::-1])[rank], ax=ax5)\n",
    "ax5.set_xlabel('')\n",
    "\n",
    "ax6.set_title('Среднее атмосферное давление по месяцам')\n",
    "pal = sns.color_palette(\"YlOrRd_r\", len(grouped_m))\n",
    "rank = grouped_m['Pressure'].argsort().argsort() \n",
    "g = sns.barplot(x=\"MonthOfYear\", y='Pressure', data=grouped_m, \n",
    "                palette=np.array(pal[::-1])[rank], ax=ax6)\n",
    "ax6.set_xlabel('')\n",
    "\n",
    "ax7.set_title('Средняя влажность по часам')\n",
    "pal = sns.color_palette(\"YlOrRd_r\", len(grouped_h))\n",
    "rank = grouped_h['Humidity'].argsort().argsort() \n",
    "g = sns.barplot(x=\"TimeOfDay(h)\", y='Humidity', data=grouped_h, \n",
    "                palette=np.array(pal[::-1])[rank], ax=ax7)\n",
    "\n",
    "ax8.set_title('Средняя влажность по месяцам')\n",
    "pal = sns.color_palette(\"YlOrRd_r\", len(grouped_m))\n",
    "rank = grouped_m['Humidity'].argsort().argsort() \n",
    "g = sns.barplot(x=\"MonthOfYear\", y='Humidity', data=grouped_m, \n",
    "                palette=np.array(pal[::-1])[rank], ax=ax8)\n",
    "\n",
    "plt.show()"
   ]
  },
  {
   "cell_type": "markdown",
   "metadata": {
    "_cell_guid": "021feea0-2935-4a33-a168-7e7231b9d87a",
    "_uuid": "e34535d7766b032834a45467a108da77b6055ade",
    "id": "_t6OainHXhfx"
   },
   "source": [
    "## Корреляция признаков"
   ]
  },
  {
   "cell_type": "code",
   "execution_count": 8,
   "metadata": {
    "_cell_guid": "6c7e4ffc-6412-40eb-8054-8c580d5d049e",
    "_uuid": "1c4240a722b365f62c2ef2ebfc41e50881ba7bef",
    "colab": {
     "base_uri": "https://localhost:8080/",
     "height": 508
    },
    "id": "BS5VbxhvXhfy",
    "outputId": "b2024f74-570f-4c6a-e12d-af99fa400361",
    "tags": []
   },
   "outputs": [
    {
     "data": {
      "image/png": "[encoded data removed]",
      "text/plain": [
       "<Figure size 504x504 with 2 Axes>"
      ]
     },
     "metadata": {
      "needs_background": "light"
     },
     "output_type": "display_data"
    }
   ],
   "source": [
    "corrmat = dataset.drop(['TimeOfDay(h)', 'TimeOfDay(m)', 'TimeOfDay(s)', \n",
    "                        'UNIXTime', 'MonthOfYear', 'WeekOfYear'], inplace=False, axis=1)\n",
    "corrmat = corrmat.corr() \n",
    "f, ax = plt.subplots(figsize=(7,7))\n",
    "sns.heatmap(corrmat, vmin=-.8, vmax=.8, square=True, cmap = 'coolwarm')\n",
    "plt.show()"
   ]
  },
  {
   "cell_type": "code",
   "execution_count": 6,
   "metadata": {
    "_cell_guid": "f41f040b-59d3-4fac-9f78-39853f7add95",
    "_uuid": "94689e3f236c664a9c5af244ce2509dcfed6bd8e",
    "id": "mcLcoeXTXhf3",
    "tags": []
   },
   "outputs": [],
   "source": [
    "X = dataset[['Temperature', 'Pressure', 'Humidity', 'WindDirection(Degrees)',\n",
    "             'Speed', 'DayOfYear', 'TimeOfDay(s)']]\n",
    "y = dataset['Radiation']"
   ]
  },
  {
   "cell_type": "code",
   "execution_count": 9,
   "metadata": {
    "_cell_guid": "2a5f4654-b705-419d-8c48-8644e45a5e2c",
    "_uuid": "d151892b5a0670c52c13b3080965c9568409a2f2",
    "id": "Fak6w6sfXhf4",
    "tags": []
   },
   "outputs": [],
   "source": [
    "from sklearn.model_selection import train_test_split\n",
    "X_train, X_test, y_train, y_test = train_test_split(X, y, test_size = 0.2, random_state = 0)"
   ]
  },
  {
   "cell_type": "markdown",
   "metadata": {
    "_cell_guid": "c6726164-be66-4f3c-93cf-a7777c6b8efe",
    "_uuid": "5d954f636a4f0b65bab0b7fb9c276083d3ae052b",
    "id": "-e1J1rJ_Xhf4",
    "tags": []
   },
   "source": [
    "## Отбор признаков"
   ]
  },
  {
   "cell_type": "code",
   "execution_count": 10,
   "metadata": {
    "_cell_guid": "e3602c9c-b330-485a-bc16-2f05ccde444c",
    "_uuid": "a6350b0cb4bfd731b388f50785f5cda46cafeb84",
    "colab": {
     "base_uri": "https://localhost:8080/",
     "height": 204
    },
    "id": "dnGnbt6pXhf4",
    "outputId": "ca28511c-c383-4936-8791-eacb71d991db",
    "tags": []
   },
   "outputs": [
    {
     "data": {
      "text/html": [
       "<div>\n",
       "<style scoped>\n",
       "    .dataframe tbody tr th:only-of-type {\n",
       "        vertical-align: middle;\n",
       "    }\n",
       "\n",
       "    .dataframe tbody tr th {\n",
       "        vertical-align: top;\n",
       "    }\n",
       "\n",
       "    .dataframe thead th {\n",
       "        text-align: right;\n",
       "    }\n",
       "</style>\n",
       "<table border=\"1\" class=\"dataframe\">\n",
       "  <thead>\n",
       "    <tr style=\"text-align: right;\">\n",
       "      <th></th>\n",
       "      <th>Features</th>\n",
       "      <th>r2 Score</th>\n",
       "    </tr>\n",
       "  </thead>\n",
       "  <tbody>\n",
       "    <tr>\n",
       "      <th>0</th>\n",
       "      <td>Temperature, Pressure, Humidity, WindDirection...</td>\n",
       "      <td>0.932828</td>\n",
       "    </tr>\n",
       "    <tr>\n",
       "      <th>1</th>\n",
       "      <td>Temperature, Humidity, WindDirection(Degrees),...</td>\n",
       "      <td>0.931395</td>\n",
       "    </tr>\n",
       "    <tr>\n",
       "      <th>2</th>\n",
       "      <td>Temperature, Humidity, DayOfYear, TimeOfDay(s)</td>\n",
       "      <td>0.933914</td>\n",
       "    </tr>\n",
       "    <tr>\n",
       "      <th>3</th>\n",
       "      <td>Temperature, DayOfYear, TimeOfDay(s)</td>\n",
       "      <td>0.932934</td>\n",
       "    </tr>\n",
       "    <tr>\n",
       "      <th>4</th>\n",
       "      <td>Temperature, TimeOfDay(s)</td>\n",
       "      <td>0.800400</td>\n",
       "    </tr>\n",
       "  </tbody>\n",
       "</table>\n",
       "</div>"
      ],
      "text/plain": [
       "                                            Features  r2 Score\n",
       "0  Temperature, Pressure, Humidity, WindDirection...  0.932828\n",
       "1  Temperature, Humidity, WindDirection(Degrees),...  0.931395\n",
       "2     Temperature, Humidity, DayOfYear, TimeOfDay(s)  0.933914\n",
       "3               Temperature, DayOfYear, TimeOfDay(s)  0.932934\n",
       "4                          Temperature, TimeOfDay(s)  0.800400"
      ]
     },
     "execution_count": 10,
     "metadata": {},
     "output_type": "execute_result"
    }
   ],
   "source": [
    "from sklearn.ensemble import RandomForestRegressor\n",
    "from sklearn.model_selection import cross_val_score\n",
    "regressor = RandomForestRegressor(n_estimators = 100)\n",
    "regressor.fit(X_train, y_train)\n",
    "feature_importances = regressor.feature_importances_\n",
    "\n",
    "X_train_opt = X_train.copy()\n",
    "removed_columns = pd.DataFrame()\n",
    "models = []\n",
    "r2s_opt = []\n",
    "\n",
    "for i in range(0,5):\n",
    "    least_important = np.argmin(feature_importances)\n",
    "    removed_columns = removed_columns.append(X_train_opt.pop(X_train_opt.columns[least_important]))\n",
    "    regressor.fit(X_train_opt, y_train)\n",
    "    feature_importances = regressor.feature_importances_\n",
    "    accuracies = cross_val_score(estimator = regressor,\n",
    "                                 X = X_train_opt,\n",
    "                                 y = y_train, cv = 5,\n",
    "                                 scoring = 'r2')\n",
    "    r2s_opt = np.append(r2s_opt, accuracies.mean())\n",
    "    models = np.append(models, \", \".join(list(X_train_opt)))\n",
    "    \n",
    "feature_selection = pd.DataFrame({'Features':models,'r2 Score':r2s_opt})\n",
    "feature_selection.head()"
   ]
  },
  {
   "cell_type": "markdown",
   "metadata": {
    "_cell_guid": "01aff242-81b4-487b-96e1-ba2a8e0df5b0",
    "_uuid": "7192c5c9eb9997628fddcb31a9e03c5f276319d8",
    "id": "p-7sxD2AXhf5",
    "tags": []
   },
   "source": [
    "## Обучение модели"
   ]
  },
  {
   "cell_type": "code",
   "execution_count": 11,
   "metadata": {
    "_cell_guid": "7c73215e-2e47-4600-9c2a-e9b6139d6303",
    "_uuid": "6cd38aaa4f98c717de15a4065dba87e2362b5beb",
    "colab": {
     "base_uri": "https://localhost:8080/"
    },
    "id": "oTnwdNvZXhf6",
    "outputId": "a828aa73-4e24-4c2d-d2b6-a15389ef3be8",
    "tags": []
   },
   "outputs": [
    {
     "data": {
      "text/plain": [
       "RandomForestRegressor()"
      ]
     },
     "execution_count": 11,
     "metadata": {},
     "output_type": "execute_result"
    }
   ],
   "source": [
    "X_train_best = X_train[['Temperature', 'DayOfYear', 'TimeOfDay(s)']]\n",
    "X_test_best = X_test[['Temperature', 'DayOfYear', 'TimeOfDay(s)']]\n",
    "regressor.fit(X_train_best, y_train)"
   ]
  },
  {
   "cell_type": "markdown",
   "metadata": {
    "_cell_guid": "2fd5ac6b-9916-4538-86b8-0cf3237a19c8",
    "_uuid": "7b8cc92d6e8854fca7956e5d7599db9587330816",
    "id": "yx2KFm_NXhf6"
   },
   "source": [
    "## Кросс валидация"
   ]
  },
  {
   "cell_type": "code",
   "execution_count": 12,
   "metadata": {
    "_cell_guid": "3a53f68b-f449-4121-889e-0f4a9b39829d",
    "_uuid": "facf4324e0bcbe6dc23fdddd50eb0fce8f0480b9",
    "colab": {
     "base_uri": "https://localhost:8080/"
    },
    "id": "4R7BYeAmXhf6",
    "outputId": "afe4ac25-b725-4202-b017-56fba97aa418"
   },
   "outputs": [
    {
     "name": "stdout",
     "output_type": "stream",
     "text": [
      "r2 = 0.9339904495352773\n"
     ]
    }
   ],
   "source": [
    "accuracies = cross_val_score(estimator = regressor, X = X_train_best,\n",
    "                             y = y_train, cv = 10, scoring = 'r2')\n",
    "accuracy = accuracies.mean()\n",
    "print('r2 = {}'.format(accuracy))"
   ]
  },
  {
   "cell_type": "markdown",
   "metadata": {
    "_cell_guid": "cd394f01-f942-4112-98b2-9a3eb324bdc9",
    "_uuid": "16d535b10a891dca264e504544b8df867b5635da",
    "id": "K7qXfWgTXhf7"
   },
   "source": [
    "## Предсказания на тестовых данных"
   ]
  },
  {
   "cell_type": "code",
   "execution_count": 13,
   "metadata": {
    "_cell_guid": "2df933b3-7118-4fcf-bd1c-64f3ac9b26b4",
    "_uuid": "263d9a2601b57e0af2cc514b9679208cef5f879c",
    "colab": {
     "base_uri": "https://localhost:8080/"
    },
    "id": "I4LgfB1YXhf7",
    "outputId": "5aa161c8-c78e-48d5-8fd8-54eaba31a085"
   },
   "outputs": [
    {
     "name": "stdout",
     "output_type": "stream",
     "text": [
      "r2 = 0.93922793056382\n"
     ]
    }
   ],
   "source": [
    "from sklearn.metrics import explained_variance_score, mean_squared_error, r2_score\n",
    "y_pred = regressor.predict(X_test_best)\n",
    "r_squared = r2_score(y_test, y_pred)\n",
    "print('r2 = {}'.format(r_squared))"
   ]
  },
  {
   "cell_type": "markdown",
   "metadata": {
    "_cell_guid": "cdbdf103-c0b5-48f5-9ec7-74fe798194ae",
    "_uuid": "5e8555236519359acf05698d7ba1fdd1a1384cf6",
    "id": "rg2swYLBXhf8"
   },
   "source": [
    "## Графики с прогнозом"
   ]
  },
  {
   "cell_type": "code",
   "execution_count": 14,
   "metadata": {
    "id": "gnchEUHjiihV"
   },
   "outputs": [],
   "source": [
    "import matplotlib.dates as md\n",
    "import matplotlib\n",
    "matplotlib.rcParams['timezone'] = hawaii\n",
    "dataset['y_pred'] = regressor.predict(dataset[['Temperature', 'DayOfYear', 'TimeOfDay(s)']])"
   ]
  },
  {
   "cell_type": "code",
   "execution_count": 15,
   "metadata": {
    "colab": {
     "base_uri": "https://localhost:8080/",
     "height": 224
    },
    "id": "6OgY9LpfC4kE",
    "outputId": "dd91a69b-f561-4104-8027-1b3ec74e2d18"
   },
   "outputs": [
    {
     "data": {
      "image/png": "[encoded data removed]",
      "text/plain": [
       "<Figure size 2160x432 with 1 Axes>"
      ]
     },
     "metadata": {
      "needs_background": "light"
     },
     "output_type": "display_data"
    }
   ],
   "source": [
    "# ax=plt.gca()\n",
    "# xfmt = md.DateFormatter('%H:%M')\n",
    "fig = plt.figure(figsize=(30,6))\n",
    "ax = fig.add_subplot()\n",
    "xfmt = md.DateFormatter('%m-%d %H:%M:%S')\n",
    "ax.xaxis.set_major_formatter(xfmt)\n",
    "plt.xticks( rotation=25 )\n",
    "plt.xlabel('l')\n",
    "ax.xaxis_date()\n",
    "plt.plot(dataset.date_for_plot[:300],dataset.Radiation[:300],label = 'Наблюдаемая радиация')\n",
    "plt.plot(dataset.date_for_plot[:300],dataset.y_pred[:300],label = 'Предсказанная радиация')\n",
    "plt.legend()\n",
    "plt.show()"
   ]
  },
  {
   "cell_type": "code",
   "execution_count": null,
   "metadata": {},
   "outputs": [],
   "source": []
  }
 ],
 "metadata": {
  "accelerator": "GPU",
  "colab": {
   "collapsed_sections": [],
   "provenance": []
  },
  "kernelspec": {
   "display_name": "Python 3 (ipykernel)",
   "language": "python",
   "name": "python3"
  },
  "language_info": {
   "codemirror_mode": {
    "name": "ipython",
    "version": 3
   },
   "file_extension": ".py",
   "mimetype": "text/x-python",
   "name": "python",
   "nbconvert_exporter": "python",
   "pygments_lexer": "ipython3",
   "version": "3.9.7"
  }
 },
 "nbformat": 4,
 "nbformat_minor": 4
}
